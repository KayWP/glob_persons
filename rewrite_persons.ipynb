{
 "cells": [
  {
   "cell_type": "code",
   "execution_count": 1,
   "id": "d24e957e",
   "metadata": {},
   "outputs": [],
   "source": [
    "from dataclasses import dataclass, field\n",
    "from typing import Optional, List"
   ]
  },
  {
   "cell_type": "code",
   "execution_count": 2,
   "id": "40cef0ce",
   "metadata": {},
   "outputs": [],
   "source": [
    "@dataclass\n",
    "class Person:\n",
    "    \"\"\"Represents a person entity.\"\"\"\n",
    "    id: Optional[int] = None\n",
    "    URI: str = \"\"\n",
    "    comment: Optional[str] = None\n",
    "    \n",
    "    # Relationships (populated after initialization)\n",
    "    active_as: List['ActiveAs'] = field(default_factory=list)\n",
    "    appellations: List['Appellation'] = field(default_factory=list)\n",
    "    identities: List['Identity'] = field(default_factory=list)\n",
    "    statuses: List['Status'] = field(default_factory=list)\n",
    "    location_relations: List['LocationRelation'] = field(default_factory=list)\n",
    "    relations: List['Relation'] = field(default_factory=list)\n",
    "    events: List['Event'] = field(default_factory=list)\n",
    "    external_references: List['ExternalReference'] = field(default_factory=list)"
   ]
  },
  {
   "cell_type": "code",
   "execution_count": 5,
   "id": "2214b415",
   "metadata": {},
   "outputs": [],
   "source": [
    "@dataclass\n",
    "class PersonAttribute:\n",
    "    \"\"\"Base class for observation-related entities.\"\"\"\n",
    "    id: Optional[int] = None\n",
    "    URI: str = \"\"\n",
    "    observation_id: Optional[str] = None\n",
    "    reconstruction_id: Optional[str] = None\n",
    "    original_label: Optional[str] = None\n",
    "    annotationDate: Optional[str] = None\n",
    "    startDate: Optional[str] = None\n",
    "    endDate: Optional[str] = None\n",
    "    startDate_min: Optional[str] = None\n",
    "    startDate_max: Optional[str] = None\n",
    "    endDate_min: Optional[str] = None\n",
    "    endDate_max: Optional[str] = None\n",
    "    observation_source: Optional[str] = None\n",
    "    location_in_observation_source: Optional[str] = None\n",
    "    reconstruction_source: Optional[str] = None\n",
    "    location_in_reconstruction_source: Optional[str] = None\n",
    "    comment: Optional[str] = None"
   ]
  },
  {
   "cell_type": "code",
   "execution_count": 6,
   "id": "71b2c7f8",
   "metadata": {},
   "outputs": [],
   "source": [
    "@dataclass\n",
    "class PersonAttributeLocation(PersonAttribute):\n",
    "    \"\"\"Adds location based methods to PersonAttribute\"\"\"\n",
    "    location: Optional[str] = None"
   ]
  },
  {
   "cell_type": "code",
   "execution_count": 7,
   "id": "36bef81c",
   "metadata": {},
   "outputs": [],
   "source": [
    "@dataclass\n",
    "class Appellation(PersonAttribute):\n",
    "    \"\"\"Represents an appellation associated with a person.\"\"\"\n",
    "    appellation: Optional[str] = None\n",
    "    appellationType: Optional[int] = None\n",
    "    toponym: Optional[str] = None"
   ]
  },
  {
   "cell_type": "code",
   "execution_count": 8,
   "id": "13e00353",
   "metadata": {},
   "outputs": [],
   "source": [
    "@dataclass\n",
    "class ActiveAs(PersonAttributeLocation):\n",
    "    \"\"\"Represents an activity associated with a person.\"\"\"\n",
    "    activity: Optional[str] = None\n",
    "    activityType: Optional[str] = None\n",
    "    employer: Optional[str] = None"
   ]
  },
  {
   "cell_type": "code",
   "execution_count": 9,
   "id": "30be2a47",
   "metadata": {},
   "outputs": [],
   "source": [
    "@dataclass\n",
    "class Identity(PersonAttributeLocation):\n",
    "    \"\"\"Represents an identity associated with a person.\"\"\"\n",
    "    identity: Optional[str] = None\n",
    "    identityType: Optional[str] = None"
   ]
  },
  {
   "cell_type": "code",
   "execution_count": 10,
   "id": "4b421928",
   "metadata": {},
   "outputs": [],
   "source": [
    "@dataclass\n",
    "class Status(PersonAttributeLocation):\n",
    "    \"\"\"Represents a status associated with a person.\"\"\"\n",
    "    status: Optional[str] = None\n",
    "    statusType: Optional[str] = None"
   ]
  },
  {
   "cell_type": "code",
   "execution_count": 11,
   "id": "fc6d2a12",
   "metadata": {},
   "outputs": [],
   "source": [
    "@dataclass\n",
    "class LocationRelation(PersonAttributeLocation):\n",
    "    \"\"\"Represents a location relation associated with a person.\"\"\"\n",
    "    locationRelation: Optional[str] = None"
   ]
  },
  {
   "cell_type": "code",
   "execution_count": 12,
   "id": "27168e56",
   "metadata": {},
   "outputs": [],
   "source": [
    "@dataclass\n",
    "class Relation(PersonAttribute):\n",
    "    \"\"\"Represents a relation between two people.\"\"\"\n",
    "    relation: Optional[str] = None\n",
    "    otherPerson: Optional[str] = None"
   ]
  },
  {
   "cell_type": "code",
   "execution_count": 13,
   "id": "f25a1f13",
   "metadata": {},
   "outputs": [],
   "source": [
    "@dataclass\n",
    "class Event(PersonAttributeLocation):\n",
    "    \"\"\"Represents an event associated with a person.\"\"\"\n",
    "    event: Optional[str] = None\n",
    "    argument: Optional[str] = None"
   ]
  },
  {
   "cell_type": "code",
   "execution_count": 14,
   "id": "57d5b0f4",
   "metadata": {},
   "outputs": [],
   "source": [
    "@dataclass\n",
    "class ExternalReference:\n",
    "    \"\"\"Represents an external reference to a person in another database.\"\"\"\n",
    "    id: Optional[int] = None\n",
    "    URI: str = \"\"\n",
    "    reconstruction_id: Optional[str] = None\n",
    "    external_db_name: Optional[str] = None\n",
    "    external_id: Optional[str] = None\n",
    "    external_id_type: Optional[str] = None"
   ]
  },
  {
   "cell_type": "code",
   "execution_count": null,
   "id": "3eb32390",
   "metadata": {},
   "outputs": [],
   "source": []
  }
 ],
 "metadata": {
  "kernelspec": {
   "display_name": "Python 3 (ipykernel)",
   "language": "python",
   "name": "python3"
  },
  "language_info": {
   "codemirror_mode": {
    "name": "ipython",
    "version": 3
   },
   "file_extension": ".py",
   "mimetype": "text/x-python",
   "name": "python",
   "nbconvert_exporter": "python",
   "pygments_lexer": "ipython3",
   "version": "3.10.9"
  }
 },
 "nbformat": 4,
 "nbformat_minor": 5
}
